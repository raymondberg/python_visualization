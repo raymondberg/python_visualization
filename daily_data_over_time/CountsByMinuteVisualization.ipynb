{
 "cells": [
  {
   "cell_type": "code",
   "execution_count": null,
   "metadata": {},
   "outputs": [],
   "source": [
    "#%matplotlib inline\n",
    "%matplotlib notebook"
   ]
  },
  {
   "cell_type": "markdown",
   "metadata": {},
   "source": [
    "## Counts By Minute Visualization\n",
    "\n",
    "There are lots of data that can be best represented over time in terms of how they fit in a daily pattern. E.g. Temperature is lower at night, and higher in the day even as one night in June could be warmer than many days in January in North America. Comparing peaks and troughs is less useful without considering time of day, and the day relative to multi-day weather patterns.\n",
    "\n",
    "This can be applied to user sign-ups in a website, or the speed of computation on background jobs, or .... you name it. This visualization intends to show data over time.\n",
    "\n",
    "Before you get started, be sure you `brew install ffmpeg` or whatever you need to do on your system."
   ]
  },
  {
   "cell_type": "code",
   "execution_count": null,
   "metadata": {},
   "outputs": [],
   "source": [
    "import datetime\n",
    "\n",
    "from matplotlib import pyplot as plt\n",
    "from matplotlib import animation\n",
    "from matplotlib import patches\n",
    "from matplotlib import rc\n",
    "from matplotlib import ticker\n",
    "\n",
    "import numpy\n",
    "import pandas\n",
    "\n",
    "from IPython.display import HTML"
   ]
  },
  {
   "cell_type": "markdown",
   "metadata": {},
   "source": [
    "### The input\n",
    "The simplest way to understand the data we are considering is through a query like this: \n",
    "\n",
    "```\n",
    "select \n",
    "  date_trunc('minute', created_at)\n",
    "  , count(*) \n",
    "from some_record_type \n",
    "group by 1 \n",
    "order by 1;\n",
    "```"
   ]
  },
  {
   "cell_type": "code",
   "execution_count": null,
   "metadata": {},
   "outputs": [],
   "source": [
    "df = pandas.read_csv('counts_by_minute.csv')\n",
    "df.head()"
   ]
  },
  {
   "cell_type": "markdown",
   "metadata": {},
   "source": [
    "## Data Enrichment \n",
    "We will benefit from some extra fields here. The key fields are `age` and `minute_mark` for later calculations, but others might help your visualization."
   ]
  },
  {
   "cell_type": "code",
   "execution_count": null,
   "metadata": {},
   "outputs": [],
   "source": [
    "df['datetime']= pandas.to_datetime(df['date_trunc'], infer_datetime_format=True)\n",
    "df['age'] = df.apply(lambda row: (datetime.datetime.now() - row['datetime']).days, axis=1)\n",
    "\n",
    "df['time'] = df.apply(lambda row: row['date_trunc'].split()[1], axis=1)\n",
    "df['minute_mark'] =  df.apply(lambda row: int(row['time'].split(':')[0])*60 + int(row['time'].split(':')[1]), axis=1)\n",
    "\n",
    "df['date'] = df.apply(lambda row: row['date_trunc'].split()[0], axis=1)\n",
    "\n",
    "df.set_index('datetime')\n",
    "df.head()"
   ]
  },
  {
   "cell_type": "markdown",
   "metadata": {},
   "source": [
    "## Helper Functions\n",
    "\n",
    "We want pretty data output, these helpers will aid in outputting data correctly. Note some comments have been left to help as you run into data issues. Ideally, we'd not have a magic string in `color_from_percent`...but trust me."
   ]
  },
  {
   "cell_type": "code",
   "execution_count": null,
   "metadata": {},
   "outputs": [],
   "source": [
    "@ticker.FuncFormatter\n",
    "def major_formatter(x, pos):\n",
    "    return '{}:{}'.format(x // 60, int(x % 60))\n",
    "\n",
    "#15 point decimal scale - 0-F\n",
    "MAX_GREYSCALE = 10\n",
    "def color_from_percent(row):\n",
    "    #try:\n",
    "        rgb = 3 * [ str(hex(int(10 * (1 - row['normalized_age'])))[2:]) * 2 ]\n",
    "        return '#{}'.format(''.join(rgb))\n",
    "    #except Exception as e:\n",
    "    #    print(row)\n",
    "    #    raise e\n"
   ]
  },
  {
   "cell_type": "code",
   "execution_count": null,
   "metadata": {
    "scrolled": false
   },
   "outputs": [],
   "source": [
    "class RecordAnimator(object):\n",
    "    DEFAULT_COLOR = \"#0000FF\"\n",
    "\n",
    "    def __init__(self, dataframe, slice_width=7, framerate=300):\n",
    "        self.dataframe = dataframe\n",
    "        self.max_y = dataframe['count'].max()\n",
    "        self.max_x = 60*24\n",
    "        self.max_age = dataframe['age'].max()\n",
    "        self.min_age = dataframe['age'].min()\n",
    "        self.slice_width = slice_width\n",
    "        \n",
    "        self.figure = plt.figure(figsize=(15,10))\n",
    "        print('fig size: {0} DPI, size in inches {1}'.format(\n",
    "            self.figure.get_dpi(), self.figure.get_size_inches()\n",
    "        ))\n",
    "        self.axes = plt.axes()\n",
    "        \n",
    "        self.animation = animation.FuncAnimation(\n",
    "            self.figure, \n",
    "            self.animate, \n",
    "            frames=self.max_age - self.min_age - slice_width,\n",
    "            interval=framerate\n",
    "        )\n",
    "\n",
    "    def clear(self):\n",
    "        for ax in self.figure.get_axes():\n",
    "            ax.clear()\n",
    "        plt.legend(handles=[])\n",
    "    \n",
    "    def configure_axes(self):\n",
    "        self.axes.tick_params(which='major', width=1.00, length=8)\n",
    "        plt.xlim(0, self.max_x)\n",
    "        plt.ylim(0, self.max_y)\n",
    "        plt.xticks(rotation='vertical')\n",
    "        plt.margins(0.6)\n",
    "        plt.subplots_adjust(bottom=0.15)\n",
    "        self.axes.xaxis.set_major_formatter(major_formatter)\n",
    "        self.axes.xaxis.set_major_locator(ticker.MultipleLocator(60))\n",
    "        self.axes.xaxis.set_minor_locator(ticker.MultipleLocator(15))      \n",
    "\n",
    "        \n",
    "    def get_segment(self, i):\n",
    "        stop = self.max_age - i\n",
    "        start = stop - self.slice_width\n",
    "        if start % self.slice_width == 0:\n",
    "            print(\"Getting segment from {} to {}\".format(start, stop))\n",
    "        return self.dataframe \\\n",
    "            .loc[df['age'] >= start] \\\n",
    "            .loc[self.dataframe['age'] <= stop]\n",
    "\n",
    "    def enrich_segment(self, segment):\n",
    "        min_age, max_age = segment['age'].min(), segment['age'].max()\n",
    "        segment['normalized_age'] = segment.apply(lambda row: (max_age - row['age']) / (max_age - min_age), axis=1)\n",
    "        if min_age != max_age:\n",
    "            segment['color'] = segment.apply(color_from_percent, axis=1) \n",
    "\n",
    "    def plot_legend(self, oldest_date, newest_date):\n",
    "        red_patch = patches.Patch(color='#A0A0A0', label='Oldest: {}'.format(oldest_date))\n",
    "        blue_patch = patches.Patch(color='#000000', label='Most Recent: {}'.format(newest_date))\n",
    "        plt.legend(handles=[red_patch, blue_patch])        \n",
    "    \n",
    "    def animate(self, i):\n",
    "        segment = self.get_segment(i)\n",
    "        if len(segment) == 0:\n",
    "            print(\"null dataframe\")\n",
    "            return  \n",
    "        \n",
    "        self.clear()\n",
    "        self.enrich_segment(segment)\n",
    "        self.plot_legend(segment['date'].min(), segment['date'].max())\n",
    "        \n",
    "        color = self.DEFAULT_COLOR\n",
    "        if 'color' in segment:\n",
    "            color = segment['color']\n",
    "        scatter = self.axes.scatter(segment['minute_mark'], segment['count'], s=1, c=color, marker='o')\n",
    "        self.configure_axes()\n",
    "        \n",
    "        return scatter,\n",
    "    \n",
    "    def show(self):\n",
    "        HTML(self.animation.to_jshtml())        \n",
    "\n",
    "my_animation = RecordAnimator(df, framerate=600)\n",
    "my_animation.show()"
   ]
  },
  {
   "cell_type": "code",
   "execution_count": null,
   "metadata": {},
   "outputs": [],
   "source": [
    "my_animation.animation.save('count_by_minute.mp4', fps=3, extra_args=['-vcodec', 'libx264'])"
   ]
  },
  {
   "cell_type": "code",
   "execution_count": null,
   "metadata": {},
   "outputs": [],
   "source": []
  }
 ],
 "metadata": {
  "kernelspec": {
   "display_name": "Python 3",
   "language": "python",
   "name": "python3"
  },
  "language_info": {
   "codemirror_mode": {
    "name": "ipython",
    "version": 3
   },
   "file_extension": ".py",
   "mimetype": "text/x-python",
   "name": "python",
   "nbconvert_exporter": "python",
   "pygments_lexer": "ipython3",
   "version": "3.5.4"
  }
 },
 "nbformat": 4,
 "nbformat_minor": 2
}
